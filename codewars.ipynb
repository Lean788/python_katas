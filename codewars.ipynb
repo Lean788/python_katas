{
 "cells": [
  {
   "cell_type": "markdown",
   "metadata": {},
   "source": [
    "### Kata 1\n",
    "> Un pangrama es una oración que contiene todas las letras del alfabeto al menos una vez. Por ejemplo, la oración \"El rápido zorro marrón salta sobre el perro perezoso\" es un pangrama, porque usa las letras A-Z al menos una vez (el caso es irrelevante).\n",
    ">\n",
    "> Dada una cadena, detectar si es o no un pangrama. Devuelve True si lo es, False si no. Ignora los números y la puntuación. "
   ]
  },
  {
   "cell_type": "code",
   "execution_count": 15,
   "metadata": {},
   "outputs": [],
   "source": [
    "def es_pangrama(cadena:str):\n",
    "    cadena = cadena.lower()\n",
    "    alfabeto = \"abcdefghijklmnopqrstuvwxyz\" + \"ñ\"\n",
    "    for letra in alfabeto:  \n",
    "        if letra not in cadena:\n",
    "            return False\n",
    "    return True\n"
   ]
  },
  {
   "cell_type": "code",
   "execution_count": 14,
   "metadata": {},
   "outputs": [
    {
     "data": {
      "text/plain": [
       "False"
      ]
     },
     "execution_count": 14,
     "metadata": {},
     "output_type": "execute_result"
    }
   ],
   "source": [
    "es_pangrama(\"El perro de san roque no tiene rabo\")"
   ]
  },
  {
   "cell_type": "code",
   "execution_count": null,
   "metadata": {},
   "outputs": [],
   "source": [
    "# Otra forma de hacerlo:\n",
    "\n",
    "def is_pangram(s):\n",
    "    return True if set('abcdefghijklmnopqrstuvwxyz').issubset(set(s.lower())) else False"
   ]
  },
  {
   "cell_type": "code",
   "execution_count": null,
   "metadata": {},
   "outputs": [],
   "source": [
    "# Otra forma de hacerlo: \n",
    "\n",
    "import string\n",
    "\n",
    "def is_pangram(input_string):\n",
    "    \"\"\"Returns False if the input string is not a pangram else returns True\"\"\"\n",
    "    return False if [char for char in string.ascii_lowercase if not char in input_string.lower()] else True"
   ]
  },
  {
   "cell_type": "markdown",
   "metadata": {},
   "source": [
    "## Kata 2 - Morse Code\n",
    "\n",
    "> Este kata es parte de una serie sobre el código Morse. Después de resolver este kata, puede pasar al siguiente.\n",
    "> \n",
    "> En este kata tienes que escribir un decodificador de código Morse simple. Si bien el código Morse ahora es reemplazado en su mayoría por los canales de comunicación de voz y datos digitales, todavía se usa en algunas aplicaciones en todo el mundo.\n",
    "> \n",
    "> El código Morse codifica cada carácter como una secuencia de \"puntos\" y \"guiones\". Por ejemplo, la letra A se codifica como ·−, la letra Q se codifica como −−·− y el dígito 1 se codifica como ·−−−−. El código Morse no distingue entre mayúsculas y minúsculas, tradicionalmente se utilizan letras mayúsculas. Cuando el mensaje está escrito en código Morse, se usa un solo espacio para separar los códigos de los caracteres y 3 espacios para separar las palabras. Por ejemplo, el mensaje HEY JUDE en código Morse es ···· · −·−− ·−−− ··− −·· ·.\n",
    "> \n",
    "> NOTA: Los espacios adicionales antes o después del código no tienen significado y deben ignorarse.\n",
    "> \n",
    "> Además de letras, dígitos y algunos signos de puntuación, hay algunos códigos de servicio especiales, el más notorio de ellos es la señal de socorro internacional SOS (que fue emitida por primera vez por Titanic), que se codifica como ···−−−··· . Estos códigos especiales se tratan como caracteres especiales únicos y, por lo general, se transmiten como palabras separadas.\n",
    "> \n",
    "> Su tarea es implementar una función que tome el código morse como entrada y devuelva una cadena descifrada legible por humanos."
   ]
  },
  {
   "cell_type": "code",
   "execution_count": 2,
   "metadata": {},
   "outputs": [
    {
     "name": "stdout",
     "output_type": "stream",
     "text": [
      "Collecting preloaded\n",
      "  Downloading preloaded-1.20221012.123320.tar.gz (10 kB)\n",
      "  Preparing metadata (setup.py): started\n",
      "  Preparing metadata (setup.py): finished with status 'done'\n",
      "Installing collected packages: preloaded\n",
      "  Running setup.py install for preloaded: started\n",
      "  Running setup.py install for preloaded: finished with status 'done'\n",
      "Successfully installed preloaded-1.20221012.123320\n",
      "Note: you may need to restart the kernel to use updated packages.\n"
     ]
    },
    {
     "name": "stderr",
     "output_type": "stream",
     "text": [
      "  DEPRECATION: preloaded is being installed using the legacy 'setup.py install' method, because it does not have a 'pyproject.toml' and the 'wheel' package is not installed. pip 23.1 will enforce this behaviour change. A possible replacement is to enable the '--use-pep517' option. Discussion can be found at https://github.com/pypa/pip/issues/8559\n"
     ]
    }
   ],
   "source": [
    "%pip install preloaded"
   ]
  },
  {
   "cell_type": "code",
   "execution_count": null,
   "metadata": {},
   "outputs": [],
   "source": [
    "from preloaded import MORSE_CODE\n",
    "\n",
    "def decode_morse(morse_code):\n",
    "    # Remember - you can use the preloaded MORSE_CODE dictionary:\n",
    "    # For example: \n",
    "    # MORSE_CODE['.-'] = 'A'\n",
    "    # MORSE_CODE['--...'] = '7'\n",
    "    # MORSE_CODE['...-..-'] = '$'\n",
    "    pass\n"
   ]
  },
  {
   "cell_type": "markdown",
   "metadata": {},
   "source": [
    "## Kata 3 Can they code in the same language?\n",
    "\n",
    ">Se le dará una matriz de objetos (matrices asociativas en PHP, tablas en COBOL) que representan datos sobre los desarrolladores que se han registrado para asistir a la próxima reunión de codificación que está organizando.\n",
    ">\n",
    ">Su tarea es devolver ya sea:\n",
    ">\n",
    ">**True** si todos los desarrolladores de la lista codifican en el mismo idioma; o\n",
    ">**False** en caso contrario.\n",
    "\n",
    "Notas:\n",
    "\n",
    "Las cadenas que representan un idioma dado siempre se formatearán de la misma manera (por ejemplo, 'JavaScript' siempre se formateará con mayúsculas 'J' y 'S'\n",
    "La matriz de entrada siempre será válida y formateada como en el ejemplo anterior."
   ]
  },
  {
   "cell_type": "code",
   "execution_count": null,
   "metadata": {},
   "outputs": [],
   "source": [
    "list1 = [\n",
    "  { 'firstName': 'Daniel', 'lastName': 'J.', 'country': 'Aruba', 'continent': 'Americas', 'age': 42, 'language': 'JavaScript' },\n",
    "  { 'firstName': 'Kseniya', 'lastName': 'T.', 'country': 'Belarus', 'continent': 'Europe', 'age': 22, 'language': 'JavaScript' },\n",
    "  { 'firstName': 'Hanna', 'lastName': 'L.', 'country': 'Hungary', 'continent': 'Europe', 'age': 65, 'language': 'JavaScript' },\n",
    "]"
   ]
  },
  {
   "cell_type": "code",
   "execution_count": 17,
   "metadata": {},
   "outputs": [],
   "source": [
    "list2 = [\n",
    "    {\"firsName\": \"Daniel\", \"lastName\": \"J.\", \"country\": \"Aruba\", \"language\": \"JavaScript\"},\n",
    "    {\"firsName\": \"Pedro\", \"lastName\": \"A.\", \"country\": \"Madrid\", \"language\": \"Python\"},\n",
    "    {\"firsName\": \"Pablo\", \"lastName\": \"S.\", \"country\": \"Alicante\", \"language\": \"JavaScript\"}\n",
    "]"
   ]
  },
  {
   "cell_type": "code",
   "execution_count": 54,
   "metadata": {},
   "outputs": [],
   "source": [
    "def is_same_language(lista): \n",
    "    for i in range(len(lista)-1):\n",
    "        if lista[i]['language'] != lista[i+1]['language']:\n",
    "            return False\n",
    "    return True"
   ]
  },
  {
   "cell_type": "code",
   "execution_count": 58,
   "metadata": {},
   "outputs": [
    {
     "name": "stdout",
     "output_type": "stream",
     "text": [
      "True\n",
      "False\n"
     ]
    }
   ],
   "source": [
    "print(is_same_language(list1))\n",
    "print(is_same_language(list2))\n"
   ]
  },
  {
   "cell_type": "markdown",
   "metadata": {},
   "source": [
    "## Kata 4 - Un cuadrado de cuadrados\n",
    "\n",
    "\n",
    ">Dado un número entero, determine si es un número cuadrado:\n",
    ">\n",
    ">En matemáticas, un número cuadrado o cuadrado perfecto es un número entero que es el cuadrado de un número entero; en otras palabras, es el producto de algún número entero consigo mismo.\n",
    ">\n",
    ">Las pruebas siempre usarán algún número entero, así que no se preocupe por eso en lenguajes de tipo dinámico.\n",
    "\n",
    "\n",
    "Examples\n",
    "\n",
    "-1  =>  false\n",
    "\n",
    "0  =>  true\n",
    "\n",
    "3  =>  false\n",
    "\n",
    "4  =>  true\n",
    "\n",
    "25  =>  true\n",
    "\n",
    "26  =>  false\n"
   ]
  },
  {
   "cell_type": "code",
   "execution_count": 61,
   "metadata": {},
   "outputs": [],
   "source": [
    "def is_square(n):\n",
    "    if (n**(1/2)) * (n**(1/2)) == n and n >= 0:\n",
    "        return True              \n",
    "    return False"
   ]
  },
  {
   "cell_type": "code",
   "execution_count": null,
   "metadata": {},
   "outputs": [],
   "source": [
    "# Otra forma:\n",
    "\n",
    "def is_square(n):    \n",
    "    return n >= 0 and (n**0.5) % 1 == 0"
   ]
  },
  {
   "cell_type": "markdown",
   "metadata": {},
   "source": [
    "## Kata 5 Persistent Bugger\n",
    ">\n",
    ">Escribe una función, persistencia, que tome un parámetro positivo num y devuelva su persistencia multiplicativa, que es el número de veces que debes multiplicar los dígitos en num hasta llegar a un solo dígito.\n",
    ">\n",
    ">Ejemplo:\n",
    ">\n",
    ">39 --> 3 (Porque 3*9 = 27, 2*7 = 14, 1*4 = 4 y 4 tiene solo un dígito)\n",
    ">\n",
    ">999 --> 4 (Porque 9*9*9 = 729, 7*2*9 = 126, 1*2*6 = 12, y finalmente 1*2 = 2)\n",
    ">\n",
    ">4 --> 0 (Porque 4 es ya un solo dígito)"
   ]
  },
  {
   "cell_type": "code",
   "execution_count": 71,
   "metadata": {},
   "outputs": [],
   "source": [
    "import numpy as np"
   ]
  },
  {
   "cell_type": "code",
   "execution_count": 72,
   "metadata": {},
   "outputs": [],
   "source": [
    "def persistence(n):\n",
    "    x = [int(a) for a in str(n)]\n",
    "    iteraciones = 0\n",
    "    while len(x) > 1:\n",
    "        new_n = np.prod(x)\n",
    "\n",
    "        iteraciones += 1\n",
    "        if len(x) == 1:\n",
    "            break\n",
    "        x = [int(a) for a in str(new_n)]\n",
    "    print (iteraciones)"
   ]
  },
  {
   "cell_type": "code",
   "execution_count": 76,
   "metadata": {},
   "outputs": [
    {
     "name": "stdout",
     "output_type": "stream",
     "text": [
      "0\n"
     ]
    }
   ],
   "source": [
    "persistence(4)"
   ]
  },
  {
   "cell_type": "markdown",
   "metadata": {},
   "source": [
    "Esta es la manera que subí a codewars, ya que con import numpy no me dejaba:"
   ]
  },
  {
   "cell_type": "code",
   "execution_count": 81,
   "metadata": {},
   "outputs": [],
   "source": [
    "def pers(num):\n",
    "    if num < 10:\n",
    "        return 0 \n",
    "    num_str = str(num)\n",
    "    total = 1\n",
    "    for i in num_str:\n",
    "        total = total * int(i)\n",
    "    return 1 + pers(total)"
   ]
  },
  {
   "cell_type": "code",
   "execution_count": 83,
   "metadata": {},
   "outputs": [
    {
     "data": {
      "text/plain": [
       "0"
      ]
     },
     "execution_count": 83,
     "metadata": {},
     "output_type": "execute_result"
    }
   ],
   "source": [
    "pers(4)"
   ]
  }
 ],
 "metadata": {
  "kernelspec": {
   "display_name": "Python 3.7.4 64-bit",
   "language": "python",
   "name": "python3"
  },
  "language_info": {
   "codemirror_mode": {
    "name": "ipython",
    "version": 3
   },
   "file_extension": ".py",
   "mimetype": "text/x-python",
   "name": "python",
   "nbconvert_exporter": "python",
   "pygments_lexer": "ipython3",
   "version": "3.7.4"
  },
  "orig_nbformat": 4,
  "vscode": {
   "interpreter": {
    "hash": "207c308bf4f500f1746affa728cb3678c6c9733dbbb4e5042cb4d1135561ef1c"
   }
  }
 },
 "nbformat": 4,
 "nbformat_minor": 2
}

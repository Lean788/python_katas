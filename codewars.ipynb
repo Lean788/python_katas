{
 "cells": [
  {
   "cell_type": "markdown",
   "metadata": {},
   "source": [
    "### Kata 1\n",
    "> Un pangrama es una oración que contiene todas las letras del alfabeto al menos una vez. Por ejemplo, la oración \"El rápido zorro marrón salta sobre el perro perezoso\" es un pangrama, porque usa las letras A-Z al menos una vez (el caso es irrelevante).\n",
    ">\n",
    "> Dada una cadena, detectar si es o no un pangrama. Devuelve True si lo es, False si no. Ignora los números y la puntuación. "
   ]
  },
  {
   "cell_type": "code",
   "execution_count": 15,
   "metadata": {},
   "outputs": [],
   "source": [
    "def es_pangrama(cadena:str):\n",
    "    cadena = cadena.lower()\n",
    "    alfabeto = \"abcdefghijklmnopqrstuvwxyz\" + \"ñ\"\n",
    "    for letra in alfabeto:  \n",
    "        if letra not in cadena:\n",
    "            return False\n",
    "    return True\n"
   ]
  },
  {
   "cell_type": "code",
   "execution_count": 14,
   "metadata": {},
   "outputs": [
    {
     "data": {
      "text/plain": [
       "False"
      ]
     },
     "execution_count": 14,
     "metadata": {},
     "output_type": "execute_result"
    }
   ],
   "source": [
    "es_pangrama(\"El perro de san roque no tiene rabo\")"
   ]
  },
  {
   "cell_type": "code",
   "execution_count": null,
   "metadata": {},
   "outputs": [],
   "source": [
    "# Otra forma de hacerlo:\n",
    "\n",
    "def is_pangram(s):\n",
    "    return True if set('abcdefghijklmnopqrstuvwxyz').issubset(set(s.lower())) else False"
   ]
  },
  {
   "cell_type": "code",
   "execution_count": null,
   "metadata": {},
   "outputs": [],
   "source": [
    "# Otra forma de hacerlo: \n",
    "\n",
    "import string\n",
    "\n",
    "def is_pangram(input_string):\n",
    "    \"\"\"Returns False if the input string is not a pangram else returns True\"\"\"\n",
    "    return False if [char for char in string.ascii_lowercase if not char in input_string.lower()] else True"
   ]
  },
  {
   "cell_type": "markdown",
   "metadata": {},
   "source": [
    "## Kata 2 - Morse Code\n",
    "\n",
    "> Este kata es parte de una serie sobre el código Morse. Después de resolver este kata, puede pasar al siguiente.\n",
    "> \n",
    "> En este kata tienes que escribir un decodificador de código Morse simple. Si bien el código Morse ahora es reemplazado en su mayoría por los canales de comunicación de voz y datos digitales, todavía se usa en algunas aplicaciones en todo el mundo.\n",
    "> \n",
    "> El código Morse codifica cada carácter como una secuencia de \"puntos\" y \"guiones\". Por ejemplo, la letra A se codifica como ·−, la letra Q se codifica como −−·− y el dígito 1 se codifica como ·−−−−. El código Morse no distingue entre mayúsculas y minúsculas, tradicionalmente se utilizan letras mayúsculas. Cuando el mensaje está escrito en código Morse, se usa un solo espacio para separar los códigos de los caracteres y 3 espacios para separar las palabras. Por ejemplo, el mensaje HEY JUDE en código Morse es ···· · −·−− ·−−− ··− −·· ·.\n",
    "> \n",
    "> NOTA: Los espacios adicionales antes o después del código no tienen significado y deben ignorarse.\n",
    "> \n",
    "> Además de letras, dígitos y algunos signos de puntuación, hay algunos códigos de servicio especiales, el más notorio de ellos es la señal de socorro internacional SOS (que fue emitida por primera vez por Titanic), que se codifica como ···−−−··· . Estos códigos especiales se tratan como caracteres especiales únicos y, por lo general, se transmiten como palabras separadas.\n",
    "> \n",
    "> Su tarea es implementar una función que tome el código morse como entrada y devuelva una cadena descifrada legible por humanos."
   ]
  },
  {
   "cell_type": "code",
   "execution_count": 2,
   "metadata": {},
   "outputs": [
    {
     "name": "stdout",
     "output_type": "stream",
     "text": [
      "Collecting preloaded\n",
      "  Downloading preloaded-1.20221012.123320.tar.gz (10 kB)\n",
      "  Preparing metadata (setup.py): started\n",
      "  Preparing metadata (setup.py): finished with status 'done'\n",
      "Installing collected packages: preloaded\n",
      "  Running setup.py install for preloaded: started\n",
      "  Running setup.py install for preloaded: finished with status 'done'\n",
      "Successfully installed preloaded-1.20221012.123320\n",
      "Note: you may need to restart the kernel to use updated packages.\n"
     ]
    },
    {
     "name": "stderr",
     "output_type": "stream",
     "text": [
      "  DEPRECATION: preloaded is being installed using the legacy 'setup.py install' method, because it does not have a 'pyproject.toml' and the 'wheel' package is not installed. pip 23.1 will enforce this behaviour change. A possible replacement is to enable the '--use-pep517' option. Discussion can be found at https://github.com/pypa/pip/issues/8559\n"
     ]
    }
   ],
   "source": [
    "%pip install preloaded"
   ]
  },
  {
   "cell_type": "code",
   "execution_count": 43,
   "metadata": {},
   "outputs": [
    {
     "ename": "ImportError",
     "evalue": "cannot import name 'MORSE_CODE' from 'preloaded' (c:\\Users\\Leandro\\AppData\\Local\\Programs\\Python\\Python37\\lib\\site-packages\\preloaded\\__init__.py)",
     "output_type": "error",
     "traceback": [
      "\u001b[1;31m---------------------------------------------------------------------------\u001b[0m",
      "\u001b[1;31mImportError\u001b[0m                               Traceback (most recent call last)",
      "\u001b[1;32m~\\AppData\\Local\\Temp\\ipykernel_21540\\3491933023.py\u001b[0m in \u001b[0;36m<module>\u001b[1;34m\u001b[0m\n\u001b[1;32m----> 1\u001b[1;33m \u001b[1;32mfrom\u001b[0m \u001b[0mpreloaded\u001b[0m \u001b[1;32mimport\u001b[0m \u001b[0mMORSE_CODE\u001b[0m\u001b[1;33m\u001b[0m\u001b[1;33m\u001b[0m\u001b[0m\n\u001b[0m\u001b[0;32m      2\u001b[0m \u001b[1;33m\u001b[0m\u001b[0m\n\u001b[0;32m      3\u001b[0m \u001b[1;32mdef\u001b[0m \u001b[0mdecode_morse\u001b[0m\u001b[1;33m(\u001b[0m\u001b[0mmorse_code\u001b[0m\u001b[1;33m)\u001b[0m\u001b[1;33m:\u001b[0m\u001b[1;33m\u001b[0m\u001b[1;33m\u001b[0m\u001b[0m\n\u001b[0;32m      4\u001b[0m     \u001b[1;31m# Remember - you can use the preloaded MORSE_CODE dictionary:\u001b[0m\u001b[1;33m\u001b[0m\u001b[1;33m\u001b[0m\u001b[1;33m\u001b[0m\u001b[0m\n\u001b[0;32m      5\u001b[0m     \u001b[1;31m# For example:\u001b[0m\u001b[1;33m\u001b[0m\u001b[1;33m\u001b[0m\u001b[1;33m\u001b[0m\u001b[0m\n",
      "\u001b[1;31mImportError\u001b[0m: cannot import name 'MORSE_CODE' from 'preloaded' (c:\\Users\\Leandro\\AppData\\Local\\Programs\\Python\\Python37\\lib\\site-packages\\preloaded\\__init__.py)"
     ]
    }
   ],
   "source": [
    "from preloaded import MORSE_CODE\n",
    "\n",
    "def decode_morse(morse_code):\n",
    "    # Remember - you can use the preloaded MORSE_CODE dictionary:\n",
    "    # For example: \n",
    "    # MORSE_CODE['.-'] = 'A'\n",
    "    # MORSE_CODE['--...'] = '7'\n",
    "    # MORSE_CODE['...-..-'] = '$'\n",
    "    pass\n",
    "\n",
    "MORSE_CODE['.-']\n"
   ]
  },
  {
   "cell_type": "markdown",
   "metadata": {},
   "source": [
    "## Kata 3 Can they code in the same language?\n",
    "\n",
    ">Se le dará una matriz de objetos (matrices asociativas en PHP, tablas en COBOL) que representan datos sobre los desarrolladores que se han registrado para asistir a la próxima reunión de codificación que está organizando.\n",
    ">\n",
    ">Su tarea es devolver ya sea:\n",
    ">\n",
    ">**True** si todos los desarrolladores de la lista codifican en el mismo idioma; o\n",
    ">**False** en caso contrario.\n",
    "\n",
    "Notas:\n",
    "\n",
    "Las cadenas que representan un idioma dado siempre se formatearán de la misma manera (por ejemplo, 'JavaScript' siempre se formateará con mayúsculas 'J' y 'S'\n",
    "La matriz de entrada siempre será válida y formateada como en el ejemplo anterior."
   ]
  },
  {
   "cell_type": "code",
   "execution_count": null,
   "metadata": {},
   "outputs": [],
   "source": [
    "list1 = [\n",
    "  { 'firstName': 'Daniel', 'lastName': 'J.', 'country': 'Aruba', 'continent': 'Americas', 'age': 42, 'language': 'JavaScript' },\n",
    "  { 'firstName': 'Kseniya', 'lastName': 'T.', 'country': 'Belarus', 'continent': 'Europe', 'age': 22, 'language': 'JavaScript' },\n",
    "  { 'firstName': 'Hanna', 'lastName': 'L.', 'country': 'Hungary', 'continent': 'Europe', 'age': 65, 'language': 'JavaScript' },\n",
    "]"
   ]
  },
  {
   "cell_type": "code",
   "execution_count": 17,
   "metadata": {},
   "outputs": [],
   "source": [
    "list2 = [\n",
    "    {\"firsName\": \"Daniel\", \"lastName\": \"J.\", \"country\": \"Aruba\", \"language\": \"JavaScript\"},\n",
    "    {\"firsName\": \"Pedro\", \"lastName\": \"A.\", \"country\": \"Madrid\", \"language\": \"Python\"},\n",
    "    {\"firsName\": \"Pablo\", \"lastName\": \"S.\", \"country\": \"Alicante\", \"language\": \"JavaScript\"}\n",
    "]"
   ]
  },
  {
   "cell_type": "code",
   "execution_count": 54,
   "metadata": {},
   "outputs": [],
   "source": [
    "def is_same_language(lista): \n",
    "    for i in range(len(lista)-1):\n",
    "        if lista[i]['language'] != lista[i+1]['language']:\n",
    "            return False\n",
    "    return True"
   ]
  },
  {
   "cell_type": "code",
   "execution_count": 58,
   "metadata": {},
   "outputs": [
    {
     "name": "stdout",
     "output_type": "stream",
     "text": [
      "True\n",
      "False\n"
     ]
    }
   ],
   "source": [
    "print(is_same_language(list1))\n",
    "print(is_same_language(list2))\n"
   ]
  },
  {
   "cell_type": "markdown",
   "metadata": {},
   "source": [
    "## Kata 4 - Un cuadrado de cuadrados\n",
    "\n",
    "\n",
    ">Dado un número entero, determine si es un número cuadrado:\n",
    ">\n",
    ">En matemáticas, un número cuadrado o cuadrado perfecto es un número entero que es el cuadrado de un número entero; en otras palabras, es el producto de algún número entero consigo mismo.\n",
    ">\n",
    ">Las pruebas siempre usarán algún número entero, así que no se preocupe por eso en lenguajes de tipo dinámico.\n",
    "\n",
    "\n",
    "Examples\n",
    "\n",
    "-1  =>  false\n",
    "\n",
    "0  =>  true\n",
    "\n",
    "3  =>  false\n",
    "\n",
    "4  =>  true\n",
    "\n",
    "25  =>  true\n",
    "\n",
    "26  =>  false\n"
   ]
  },
  {
   "cell_type": "code",
   "execution_count": 61,
   "metadata": {},
   "outputs": [],
   "source": [
    "def is_square(n):\n",
    "    if (n**(1/2)) * (n**(1/2)) == n and n >= 0:\n",
    "        return True              \n",
    "    return False"
   ]
  },
  {
   "cell_type": "code",
   "execution_count": null,
   "metadata": {},
   "outputs": [],
   "source": [
    "# Otra forma:\n",
    "\n",
    "def is_square(n):    \n",
    "    return n >= 0 and (n**0.5) % 1 == 0"
   ]
  },
  {
   "cell_type": "markdown",
   "metadata": {},
   "source": [
    "## Kata 5 Persistent Bugger\n",
    ">\n",
    ">Escribe una función, persistencia, que tome un parámetro positivo num y devuelva su persistencia multiplicativa, que es el número de veces que debes multiplicar los dígitos en num hasta llegar a un solo dígito.\n",
    ">\n",
    ">Ejemplo:\n",
    ">\n",
    ">39 --> 3 (Porque 3*9 = 27, 2*7 = 14, 1*4 = 4 y 4 tiene solo un dígito)\n",
    ">\n",
    ">999 --> 4 (Porque 9*9*9 = 729, 7*2*9 = 126, 1*2*6 = 12, y finalmente 1*2 = 2)\n",
    ">\n",
    ">4 --> 0 (Porque 4 es ya un solo dígito)"
   ]
  },
  {
   "cell_type": "code",
   "execution_count": 71,
   "metadata": {},
   "outputs": [],
   "source": [
    "import numpy as np"
   ]
  },
  {
   "cell_type": "code",
   "execution_count": 72,
   "metadata": {},
   "outputs": [],
   "source": [
    "def persistence(n):\n",
    "    x = [int(a) for a in str(n)]\n",
    "    iteraciones = 0\n",
    "    while len(x) > 1:\n",
    "        new_n = np.prod(x)\n",
    "\n",
    "        iteraciones += 1\n",
    "        if len(x) == 1:\n",
    "            break\n",
    "        x = [int(a) for a in str(new_n)]\n",
    "    print (iteraciones)"
   ]
  },
  {
   "cell_type": "code",
   "execution_count": 76,
   "metadata": {},
   "outputs": [
    {
     "name": "stdout",
     "output_type": "stream",
     "text": [
      "0\n"
     ]
    }
   ],
   "source": [
    "persistence(4)"
   ]
  },
  {
   "cell_type": "markdown",
   "metadata": {},
   "source": [
    "Esta es la manera que subí a codewars, ya que con import numpy no me dejaba:"
   ]
  },
  {
   "cell_type": "code",
   "execution_count": 81,
   "metadata": {},
   "outputs": [],
   "source": [
    "def pers(num):\n",
    "    if num < 10:\n",
    "        return 0 \n",
    "    num_str = str(num)\n",
    "    total = 1\n",
    "    for i in num_str:\n",
    "        total = total * int(i)\n",
    "    return 1 + pers(total)"
   ]
  },
  {
   "cell_type": "code",
   "execution_count": 83,
   "metadata": {},
   "outputs": [
    {
     "data": {
      "text/plain": [
       "0"
      ]
     },
     "execution_count": 83,
     "metadata": {},
     "output_type": "execute_result"
    }
   ],
   "source": [
    "pers(4)"
   ]
  },
  {
   "cell_type": "markdown",
   "metadata": {},
   "source": [
    "## Kata 6 - Mumbling\n",
    "\n",
    ">This time no story, no theory. The examples below show you how to write function accum:\n",
    ">Examples:\n",
    ">\n",
    ">accum(\"abcd\") -> \"A-Bb-Ccc-Dddd\"\n",
    ">\n",
    ">accum(\"RqaEzty\") -> \"R-Qq-Aaa-Eeee-Zzzzz-Tttttt-Yyyyyyy\"\n",
    ">\n",
    ">accum(\"cwAt\") -> \"C-Ww-Aaa-Tttt\"\n",
    ">\n",
    ">The parameter of accum is a string which includes only letters from a..z and A..Z.\n",
    ">"
   ]
  },
  {
   "cell_type": "code",
   "execution_count": 41,
   "metadata": {},
   "outputs": [],
   "source": [
    "def acum(s:str):\n",
    "    cadena = s.lower()\n",
    "    cadena.lower()\n",
    "    cadena = list(cadena)\n",
    "    cadena_correcta = []\n",
    "    for indice, letra in enumerate(cadena):\n",
    "        letra = (letra * (indice+1)).capitalize()\n",
    "        cadena_correcta.append(letra)\n",
    "    \n",
    "    return \"-\".join(cadena_correcta)\n",
    "    "
   ]
  },
  {
   "cell_type": "code",
   "execution_count": 42,
   "metadata": {},
   "outputs": [
    {
     "name": "stdout",
     "output_type": "stream",
     "text": [
      "A-Bb-Ccc-Dddd\n"
     ]
    }
   ],
   "source": [
    "print(acum(\"abcd\"))"
   ]
  },
  {
   "cell_type": "markdown",
   "metadata": {},
   "source": [
    "## Kata 7 - Narcissistic Number\n",
    "\n",
    "A Narcissistic Number (or Armstrong Number) is a positive number which is the sum of its own digits, each raised to the power of the number of digits in a given base. In this Kata, we will restrict ourselves to decimal (base 10).\n",
    "\n",
    "For example, take 153 (3 digits), which is narcisstic:\n",
    "\n",
    "    1^3 + 5^3 + 3^3 = 1 + 125 + 27 = 153\n",
    "\n",
    "and 1652 (4 digits), which isn't:\n",
    "\n",
    "    1^4 + 6^4 + 5^4 + 2^4 = 1 + 1296 + 625 + 16 = 1938\n",
    "\n",
    "The Challenge:\n",
    "\n",
    "Your code must return true or false (not 'true' and 'false') depending upon whether the given number is a Narcissistic number in base 10. This may be True and False in your language, e.g. PHP.\n",
    "\n",
    "Error checking for text strings or other invalid inputs is not required, only valid positive non-zero integers will be passed into the function.\n"
   ]
  },
  {
   "cell_type": "code",
   "execution_count": 62,
   "metadata": {},
   "outputs": [],
   "source": [
    "def narcissistic( value ):\n",
    "    x = [int(a) for a in str(value)]\n",
    "    lista_final = []\n",
    "    for i in x: \n",
    "        i = i ** (len(x))\n",
    "        lista_final.append(i)\n",
    "    if sum(lista_final) == value:\n",
    "        return True\n",
    "    else: return False"
   ]
  },
  {
   "cell_type": "code",
   "execution_count": 64,
   "metadata": {},
   "outputs": [
    {
     "data": {
      "text/plain": [
       "True"
      ]
     },
     "execution_count": 64,
     "metadata": {},
     "output_type": "execute_result"
    }
   ],
   "source": [
    "narcissistic(153)"
   ]
  },
  {
   "cell_type": "code",
   "execution_count": null,
   "metadata": {},
   "outputs": [],
   "source": [
    "# Forma PRO de hacerlo:\n",
    "\n",
    "def narcissistic(value):\n",
    "    return value == sum(int(x) ** len(str(value)) for x in str(value))"
   ]
  },
  {
   "cell_type": "markdown",
   "metadata": {},
   "source": [
    "## Find The Parity Outlier\n",
    "\n",
    ">Se le proporciona una matriz (que tendrá una longitud de al menos 3, pero podría ser muy grande) que contiene números enteros. La matriz está completamente compuesta por enteros impares o completamente compuesta por enteros pares excepto por un solo número entero N. Escriba un método que tome la matriz como argumento y devuelva este \"valor atípico\" N.\n",
    ">\n",
    ">Examples\n",
    ">\n",
    ">[2, 4, 0, 100, 4, 11, 2602, 36]\n",
    ">\n",
    ">Should return: 11 (the only odd number)\n",
    ">\n",
    ">[160, 3, 1719, 19, 11, 13, -21]\n",
    ">\n",
    ">Should return: 160 (the only even number)\n"
   ]
  },
  {
   "cell_type": "code",
   "execution_count": 65,
   "metadata": {},
   "outputs": [],
   "source": [
    "def find_outlier(integers):\n",
    "    even = []\n",
    "    odd = []\n",
    "\n",
    "    for i in integers:\n",
    "        if i % 2 == 0:\n",
    "            even.append(i)\n",
    "        else:\n",
    "            odd.append(i)\n",
    "    if len(even) > 1:\n",
    "        return odd[0]\n",
    "    else:\n",
    "        return even[0]"
   ]
  },
  {
   "cell_type": "code",
   "execution_count": null,
   "metadata": {},
   "outputs": [],
   "source": [
    "integers = [2, 4, 0, 100, 4, 11, 2602, 36]\n",
    "\n"
   ]
  },
  {
   "cell_type": "code",
   "execution_count": 67,
   "metadata": {},
   "outputs": [
    {
     "data": {
      "text/plain": [
       "160"
      ]
     },
     "execution_count": 67,
     "metadata": {},
     "output_type": "execute_result"
    }
   ],
   "source": [
    "find_outlier([160, 3, 1719, 19, 11, 13, -21])"
   ]
  },
  {
   "cell_type": "markdown",
   "metadata": {},
   "source": []
  },
  {
   "cell_type": "markdown",
   "metadata": {},
   "source": [
    "## Pete, the baker - kyu 5\n",
    "\n",
    "A Pete le gusta hornear algunos pasteles. Tiene algunas recetas e ingredientes. Desafortunadamente, no es bueno en matemáticas. ¿Puedes ayudarlo a averiguar cuántos pasteles podría hornear considerando sus recetas?\n",
    "\n",
    "Escriba una función cakes(), que tome la receta (objeto) y los ingredientes disponibles (también un objeto) y devuelva el número máximo de pasteles que Pete puede hornear (entero). Para simplificar, no hay unidades para las cantidades (por ejemplo, 1 libra de harina o 200 g de azúcar son simplemente 1 o 200). Los ingredientes que no están presentes en los objetos, se pueden considerar como 0.\n",
    "\n",
    "Examples:\n",
    "\n",
    ">#### must return 2\n",
    ">cakes({flour: 500, sugar: 200, eggs: 1}, {flour: 1200, sugar: 1200, eggs: 5, milk: 200})\n",
    ">#### must return 0\n",
    ">cakes({apples: 3, flour: 300, sugar: 150, milk: 100, oil: 100}, {sugar: 500, flour: 2000, milk: 2000})\n",
    ">"
   ]
  },
  {
   "cell_type": "code",
   "execution_count": null,
   "metadata": {},
   "outputs": [],
   "source": [
    "def cakes(recipe, available):\n",
    "    "
   ]
  },
  {
   "cell_type": "code",
   "execution_count": 1,
   "metadata": {},
   "outputs": [],
   "source": [
    "recipe = {\"flour\": 500, \"sugar\": 200, \"eggs\": 1}\n",
    "available = {\"flour\": 1200, \"sugar\": 1200, \"eggs\": 5, \"milk\": 200}\n",
    "\n"
   ]
  },
  {
   "cell_type": "code",
   "execution_count": null,
   "metadata": {},
   "outputs": [],
   "source": []
  },
  {
   "cell_type": "markdown",
   "metadata": {},
   "source": [
    "## Counting Duplicates - kyu 6\n",
    "\n",
    "> Cuente el número de duplicados\n",
    "> \n",
    "> Escriba una función que devuelva el recuento de caracteres alfabéticos y dígitos numéricos distintos que no distinguen entre mayúsculas y minúsculas que aparecen más de una vez en la cadena de entrada. Se puede suponer que la cadena de entrada contiene solo letras (tanto mayúsculas como minúsculas) y dígitos numéricos.\n",
    ">\n",
    "> Example\n",
    ">\n",
    ">\"abcde\" -> 0 # no characters repeats more than once\n",
    ">\n",
    ">\"aabbcde\" -> 2 # 'a' and 'b'\n",
    ">\n",
    ">\"aabBcde\" -> 2 # 'a' occurs twice and 'b' twice (`b` and `B`)\n",
    ">\n",
    ">\"indivisibility\" -> 1 # 'i' occurs six times\n",
    ">\n",
    ">\"Indivisibilities\" -> 2 # 'i' occurs seven times and 's' occurs twice\n",
    ">\n",
    ">\"aA11\" -> 2 # 'a' and '1'\n",
    ">\n",
    ">\"ABBA\" -> 2 # 'A' and 'B' each occur twice"
   ]
  },
  {
   "cell_type": "code",
   "execution_count": 10,
   "metadata": {},
   "outputs": [],
   "source": [
    "def duplicate_count(text):\n",
    "    texto = list(text.lower())\n",
    "    duplicates = []\n",
    "    unico = []\n",
    "    for i in texto:\n",
    "        if i not in unico:\n",
    "            unico.append(i)\n",
    "        elif i not in duplicates:\n",
    "            duplicates.append(i)\n",
    "\n",
    "    return len(duplicates)"
   ]
  },
  {
   "cell_type": "code",
   "execution_count": 13,
   "metadata": {},
   "outputs": [
    {
     "data": {
      "text/plain": [
       "2"
      ]
     },
     "execution_count": 13,
     "metadata": {},
     "output_type": "execute_result"
    }
   ],
   "source": [
    "duplicate_count(\"Indivisibilities\")"
   ]
  },
  {
   "cell_type": "code",
   "execution_count": null,
   "metadata": {},
   "outputs": [],
   "source": [
    "def duplicate_count(text):\n",
    "    text = text.lower()\n",
    "    duplicates = []\n",
    "    for i in text:\n",
    "        if text.count(i) > 1 and i not in duplicates:\n",
    "            duplicates.append(i)    \n",
    "    return len(duplicates)"
   ]
  },
  {
   "cell_type": "code",
   "execution_count": null,
   "metadata": {},
   "outputs": [],
   "source": [
    "# Forma mega PRO\n",
    "\n",
    "def duplicate_count(s):\n",
    "  return len([c for c in set(s.lower()) if s.lower().count(c)>1])"
   ]
  },
  {
   "cell_type": "code",
   "execution_count": null,
   "metadata": {},
   "outputs": [],
   "source": [
    "def duplicate_count(text):\n",
    "    count = 0\n",
    "    for c in set(text.lower()):\n",
    "        if text.lower().count(c) > 1:\n",
    "            count += 1\n",
    "    return count\n",
    "     "
   ]
  },
  {
   "cell_type": "code",
   "execution_count": null,
   "metadata": {},
   "outputs": [],
   "source": [
    "from collections import Counter\n",
    "\n",
    "def duplicate_count(text):\n",
    "    return sum(1 for c, n in Counter(text.lower()).iteritems() if n > 1)"
   ]
  },
  {
   "cell_type": "markdown",
   "metadata": {},
   "source": [
    "## Create Phone Number\n",
    "\n",
    "\n",
    ">Write a function that accepts an array of 10 integers (between 0 and 9), that returns a string of those numbers in the form of a phone number.\n",
    ">Example\n",
    ">\n",
    ">create_phone_number([1, 2, 3, 4, 5, 6, 7, 8, 9, 0]) # => returns \"(123) 456-7890\"\n",
    ">\n",
    ">The returned format must be correct in order to complete this challenge.\n",
    ">\n",
    ">Don't forget the space after the closing parentheses!\n",
    ">"
   ]
  },
  {
   "cell_type": "code",
   "execution_count": 15,
   "metadata": {},
   "outputs": [],
   "source": [
    "import random\n",
    "def create_phone_number(n):\n",
    "    new_num = []\n",
    "    while len(new_num) < 10:\n",
    "        x=random.randint(0,9)\n",
    "        new_num.append(x)\n",
    "    \n",
    "    new_num_phone = f\"({new_num[:3]}\"\n"
   ]
  },
  {
   "cell_type": "code",
   "execution_count": 22,
   "metadata": {},
   "outputs": [
    {
     "name": "stdout",
     "output_type": "stream",
     "text": [
      "2\n"
     ]
    }
   ],
   "source": [
    "create_phone_number([1, 2, 3, 4, 5, 6, 7, 8, 9, 0])"
   ]
  },
  {
   "cell_type": "code",
   "execution_count": 27,
   "metadata": {},
   "outputs": [
    {
     "name": "stdout",
     "output_type": "stream",
     "text": [
      "perro [1, 2, 3] feo\n"
     ]
    }
   ],
   "source": [
    "numero = [1, 2, 3, 4, 5, 6, 7, 8, 9, 0]\n",
    "saludo = f\"perro {*str(numero[:3])} feo\"\n",
    "print(saludo)"
   ]
  },
  {
   "cell_type": "code",
   "execution_count": null,
   "metadata": {},
   "outputs": [],
   "source": [
    "numero = [1, 2, 3, 4, 5, 6, 7, 8, 9, 0]\n",
    "xc = [\"(\",\")\",\" \",\"\",\"\"-\"\"]\n",
    "\n",
    "\n",
    "\n",
    "msg1 = '({}) {}-{}'.format(numero[:3],numero[3:6],numero[7:])\n"
   ]
  },
  {
   "cell_type": "code",
   "execution_count": 30,
   "metadata": {},
   "outputs": [
    {
     "name": "stdout",
     "output_type": "stream",
     "text": [
      "['1', '2', '3', '4', '5', '6', '7', '8', '9', '0']\n"
     ]
    }
   ],
   "source": [
    "numero = [1, 2, 3, 4, 5, 6, 7, 8, 9, 0]\n",
    "numero_nuevo = []\n",
    "for i in numero:\n",
    "    i = str(i)\n",
    "    numero_nuevo.append(i)\n",
    "print(numero_nuevo)"
   ]
  },
  {
   "cell_type": "code",
   "execution_count": 44,
   "metadata": {},
   "outputs": [
    {
     "name": "stdout",
     "output_type": "stream",
     "text": [
      "1, 2, 3, 4, 5, 6, 7, 8, 9, 0\n",
      "(1, ) 2, -3, 4, 5, 6, 7, 8, 9, 0\n"
     ]
    }
   ],
   "source": [
    "unido = \", \".join(numero_nuevo)\n",
    "msg1 = '({}) {}-{}'.format(unido[:3],unido[3:6],unido[6:])\n",
    "print(unido)\n",
    "print(msg1)"
   ]
  },
  {
   "cell_type": "code",
   "execution_count": 47,
   "metadata": {},
   "outputs": [],
   "source": [
    "# Sol.1:\n",
    "def create_phone_number(n):\n",
    "    cadena = \"\".join([str(i) for i in n])\n",
    "    return f\"({cadena[:3]}) {cadena[3:6]}-{cadena[6:]}\""
   ]
  },
  {
   "cell_type": "code",
   "execution_count": 48,
   "metadata": {},
   "outputs": [
    {
     "data": {
      "text/plain": [
       "'(123) 456-7890'"
      ]
     },
     "execution_count": 48,
     "metadata": {},
     "output_type": "execute_result"
    }
   ],
   "source": [
    "create_phone_number([1, 2, 3, 4, 5, 6, 7, 8, 9, 0])"
   ]
  },
  {
   "cell_type": "markdown",
   "metadata": {},
   "source": [
    "## Duplicate encoder - 6 Kyu\n",
    "\n",
    "The goal of this exercise is to convert a string to a new string where each character in the new string is \"(\" if that character appears only once in the original string, or \")\" if that character appears more than once in the original string. Ignore capitalization when determining if a character is a duplicate.\n",
    "Examples\n",
    "\n",
    "\"din\"      =>  \"(((\"\n",
    "\n",
    "\"recede\"   =>  \"()()()\"\n",
    "\n",
    "\"Success\"  =>  \")())())\"\n",
    "\n",
    "\"(( @\"     =>  \"))((\" \n",
    "\n",
    ">Notes\n",
    ">\n",
    ">Assertion messages may be unclear about what they display in some languages. If you read \"...It Should encode XXX\", the \"XXX\" is the expected result, not the input!\n",
    ">"
   ]
  },
  {
   "cell_type": "code",
   "execution_count": 60,
   "metadata": {},
   "outputs": [],
   "source": [
    "def duplicate_encode(word):\n",
    "    nueva = []\n",
    "    for i in (word.lower()):\n",
    "        if word.lower().count(i) == 1:\n",
    "            nueva.append(\"(\")\n",
    "        else:\n",
    "            nueva.append(\")\")\n",
    "    nueva = \"\".join(nueva)\n",
    "    return nueva"
   ]
  },
  {
   "cell_type": "code",
   "execution_count": 55,
   "metadata": {},
   "outputs": [
    {
     "name": "stdout",
     "output_type": "stream",
     "text": [
      ")())())\n"
     ]
    }
   ],
   "source": [
    "palabra = \"Success\"\n",
    "nueva = []\n",
    "for i in (palabra.lower()):\n",
    "    if palabra.count(i) > 1 and i not in nueva:\n",
    "        nueva.append(\")\")\n",
    "    else:\n",
    "        nueva.append(\"(\")\n",
    "nueva = \"\".join(nueva)\n",
    "print(nueva)"
   ]
  },
  {
   "cell_type": "code",
   "execution_count": 61,
   "metadata": {},
   "outputs": [
    {
     "data": {
      "text/plain": [
       "'()()()'"
      ]
     },
     "execution_count": 61,
     "metadata": {},
     "output_type": "execute_result"
    }
   ],
   "source": [
    "duplicate_encode(\"recede\")"
   ]
  },
  {
   "cell_type": "markdown",
   "metadata": {},
   "source": [
    "## Your order, please - Kyu 6\n",
    "\n",
    "Su tarea es ordenar una cadena dada. Cada palabra en la cadena contendrá un solo número. Este número es la posición que debe tener la palabra en el resultado.\n",
    "\n",
    "Nota: Los números pueden ser del 1 al 9. Por lo tanto, 1 será la primera palabra (no 0).\n",
    "\n",
    "Si la cadena de entrada está vacía, devuelve una cadena vacía. Las palabras en la cadena de entrada solo contendrán números consecutivos válidos.\n",
    "\n",
    "\n",
    ">Examples\n",
    ">\n",
    ">\"is2 Thi1s T4est 3a\"  -->  \"Thi1s is2 3a T4est\"\n",
    ">\n",
    ">\"4of Fo1r pe6ople g3ood th5e the2\"  -->  \"Fo1r the2 g3ood 4of th5e pe6ople\"\n",
    ">\n",
    ">\"\"  -->  \"\"\n",
    "\n"
   ]
  },
  {
   "cell_type": "code",
   "execution_count": 64,
   "metadata": {},
   "outputs": [],
   "source": [
    "def order(sentence):\n",
    "    oracion = []\n",
    "    for i in range(1,10):\n",
    "        for palabra in sentence.split():\n",
    "            if str(i) in palabra:\n",
    "                oracion.append(palabra)\n",
    "    return \" \".join(oracion)"
   ]
  },
  {
   "cell_type": "code",
   "execution_count": 65,
   "metadata": {},
   "outputs": [
    {
     "data": {
      "text/plain": [
       "'Fo1r the2 g3ood 4of th5e pe6ople'"
      ]
     },
     "execution_count": 65,
     "metadata": {},
     "output_type": "execute_result"
    }
   ],
   "source": [
    "order(\"4of Fo1r pe6ople g3ood th5e the2\")"
   ]
  },
  {
   "cell_type": "code",
   "execution_count": null,
   "metadata": {},
   "outputs": [],
   "source": [
    "# Modo PRO:\n",
    "\n",
    "def order(words):\n",
    "  return ' '.join(sorted(words.split(), key=lambda w:sorted(w)))"
   ]
  },
  {
   "cell_type": "markdown",
   "metadata": {},
   "source": [
    "## Multiples of 3 or 5 - Kyu 6\n",
    "\n",
    ">Si enumeramos todos los números naturales debajo de 10 que son múltiplos de 3 o 5, obtenemos 3, 5, 6 y 9. La suma de estos múltiplos es 23.\n",
    ">\n",
    ">Termina la solución para que devuelva la suma de todos los múltiplos de 3 o 5 por debajo del número pasado. Además, si el número es negativo, devuelve 0 (para los idiomas que los tienen).\n",
    ">\n",
    ">Nota: si el número es un múltiplo de 3 y 5, solo cuéntelo una vez."
   ]
  },
  {
   "cell_type": "code",
   "execution_count": 66,
   "metadata": {},
   "outputs": [],
   "source": [
    "def solution(number):\n",
    "    result = []\n",
    "    for i in range(0,number):\n",
    "        if i % 3 == 0 or i % 5 == 0:\n",
    "            result.append(i)\n",
    "        elif i < 0:\n",
    "            result.append(0)\n",
    "    return sum(result)"
   ]
  },
  {
   "cell_type": "code",
   "execution_count": 69,
   "metadata": {},
   "outputs": [
    {
     "data": {
      "text/plain": [
       "60"
      ]
     },
     "execution_count": 69,
     "metadata": {},
     "output_type": "execute_result"
    }
   ],
   "source": [
    "solution(16)"
   ]
  },
  {
   "cell_type": "markdown",
   "metadata": {},
   "source": [
    "## Unique In Order - Kyu6\n",
    "\n",
    "Implemente la función unique_in_order que toma como argumento una secuencia y devuelve una lista de elementos sin ningún elemento con el mismo valor uno al lado del otro y conservando el orden original de los elementos.\n",
    "\n",
    ">For example:\n",
    ">\n",
    ">unique_in_order('AAAABBBCCDAABBB') == ['A', 'B', 'C', 'D', 'A', 'B']\n",
    ">\n",
    ">unique_in_order('ABBCcAD')         == ['A', 'B', 'C', 'c', 'A', 'D']\n",
    ">\n",
    ">unique_in_order([1,2,2,3,3])       == [1,2,3]\n"
   ]
  },
  {
   "cell_type": "code",
   "execution_count": 77,
   "metadata": {},
   "outputs": [],
   "source": [
    "def unique_in_order(iterable):\n",
    "\n",
    "    lista = []\n",
    "    for i in range(len(iterable)):\n",
    "        if i == 0 or iterable[i] != iterable[i-1]:\n",
    "            lista.append(iterable[i])\n",
    "    return lista\n"
   ]
  },
  {
   "cell_type": "code",
   "execution_count": 78,
   "metadata": {},
   "outputs": [
    {
     "data": {
      "text/plain": [
       "['A', 'B', 'C', 'D', 'A', 'B']"
      ]
     },
     "execution_count": 78,
     "metadata": {},
     "output_type": "execute_result"
    }
   ],
   "source": [
    "unique_in_order('AAAABBBCCDAABBB')"
   ]
  },
  {
   "cell_type": "markdown",
   "metadata": {},
   "source": [
    "## First non-repteating character - kyu 5\n",
    "\n",
    ">Escriba una función llamada first_non_repeating_letter que tome una entrada de cadena y devuelva el primer carácter que no se repite en ninguna parte de la cadena.\n",
    ">\n",
    ">Por ejemplo, si se le da la entrada 'stress', la función debería devolver 't', ya que la letra t solo aparece una vez en la cadena y aparece primero en la cadena.\n",
    ">\n",
    ">Como desafío adicional, las letras mayúsculas y minúsculas se consideran el mismo carácter, pero la función debe devolver el caso correcto para la letra inicial. Por ejemplo, la entrada 'sTreSS' debería devolver 'T'.\n",
    ">\n",
    ">Si una cadena contiene todos los caracteres repetidos, debería devolver una cadena vacía (\"\") o Ninguno; consulte las pruebas de muestra."
   ]
  },
  {
   "cell_type": "code",
   "execution_count": 98,
   "metadata": {},
   "outputs": [],
   "source": [
    "def first_non_repeating_letter(string):\n",
    "    repeat = []\n",
    "    for c in string:\n",
    "        if string.lower().count(c.lower()) == 1:\n",
    "            repeat.append(c)\n",
    "    if len(repeat) > 0:\n",
    "        return repeat[0]\n",
    "    else: return \"\""
   ]
  },
  {
   "cell_type": "code",
   "execution_count": 99,
   "metadata": {},
   "outputs": [
    {
     "data": {
      "text/plain": [
       "'e'"
      ]
     },
     "execution_count": 99,
     "metadata": {},
     "output_type": "execute_result"
    }
   ],
   "source": [
    "first_non_repeating_letter('moonmen')"
   ]
  },
  {
   "cell_type": "code",
   "execution_count": null,
   "metadata": {},
   "outputs": [],
   "source": [
    "# Otra forma de hacerlo:\n",
    "\n",
    "def first_non_repeating_letter(string):\n",
    "    string_lower = string.lower()\n",
    "    for i, letter in enumerate(string_lower):\n",
    "        if string_lower.count(letter) == 1:\n",
    "            return string[i]\n",
    "            \n",
    "    return \"\""
   ]
  },
  {
   "cell_type": "code",
   "execution_count": 97,
   "metadata": {},
   "outputs": [
    {
     "name": "stdout",
     "output_type": "stream",
     "text": [
      "s\n"
     ]
    }
   ],
   "source": [
    "cadena = 'sTreSS'\n",
    "\n",
    "while cadena.lower() != \"\":\n",
    "    cadLen0 = len(cadena)\n",
    "    letra = cadena[0]\n",
    "    cadena = cadena.replace(letra, \"\").lower()\n",
    "    cadLen1 = len(cadena)\n",
    "    if cadLen1 == cadLen0-1:\n",
    "        print(letra)\n",
    "        break\n",
    "    else:\n",
    "        print(None)\n"
   ]
  },
  {
   "cell_type": "code",
   "execution_count": null,
   "metadata": {},
   "outputs": [],
   "source": [
    "#Modo PRO\n",
    "def first_non_repeating_letter(string):\n",
    "    reps = [c for c in string if string.lower().count(c.lower()) == 1]\n",
    "    return  reps[0] if len(reps) > 0 else \"\""
   ]
  },
  {
   "cell_type": "markdown",
   "metadata": {},
   "source": [
    "## Sum of digits/ Digital Root - Kyu6\n",
    "\n",
    "La raíz digital es la suma recursiva de todos los dígitos de un número.\n",
    "\n",
    "Dado n, tome la suma de los dígitos de n. Si ese valor tiene más de un dígito, continúe reduciendo de esta manera hasta que se produzca un número de un solo dígito. La entrada será un número entero no negativo.\n",
    "\n",
    "Examples\n",
    "\n",
    "    16  -->  1 + 6 = 7\n",
    "    \n",
    "    942  -->  9 + 4 + 2 = 15  -->  1 + 5 = 6\n",
    "    \n",
    "    132189  -->  1 + 3 + 2 + 1 + 8 + 9 = 24  -->  2 + 4 = 6\n",
    "    \n",
    "    493193  -->  4 + 9 + 3 + 1 + 9 + 3 = 29  -->  2 + 9 = 11  -->  1 + 1 = 2\n"
   ]
  },
  {
   "cell_type": "code",
   "execution_count": 114,
   "metadata": {},
   "outputs": [],
   "source": [
    "def digital_root(n):\n",
    "    str(n)\n",
    "    lista = list(str(n))\n",
    "    while len(lista) > 1:\n",
    "\n",
    "        for i in range(len(lista)):\n",
    "            lista[i] = int(lista[i])\n",
    "        lista = [sum(lista)]\n",
    "        continue\n",
    "    return lista[0]\n",
    "\n",
    "\n",
    "\n"
   ]
  },
  {
   "cell_type": "code",
   "execution_count": 115,
   "metadata": {},
   "outputs": [
    {
     "data": {
      "text/plain": [
       "15"
      ]
     },
     "execution_count": 115,
     "metadata": {},
     "output_type": "execute_result"
    }
   ],
   "source": [
    "digital_root(942)"
   ]
  },
  {
   "cell_type": "code",
   "execution_count": 117,
   "metadata": {},
   "outputs": [
    {
     "data": {
      "text/plain": [
       "15"
      ]
     },
     "execution_count": 117,
     "metadata": {},
     "output_type": "execute_result"
    }
   ],
   "source": [
    "n=456\n",
    "list_num = []\n",
    "for num in str(n):\n",
    "    list_num.append(int(num))\n",
    "sum(list_num)"
   ]
  },
  {
   "cell_type": "code",
   "execution_count": 108,
   "metadata": {},
   "outputs": [
    {
     "data": {
      "text/plain": [
       "9"
      ]
     },
     "execution_count": 108,
     "metadata": {},
     "output_type": "execute_result"
    }
   ],
   "source": [
    "def digital_root(n):\n",
    "    sumas = sum([int(num) for num in str(n)])\n",
    "    if len(str(sumas)) >= 2:\n",
    "        sums = digital_root(sumas)\n",
    "    return sumas\n"
   ]
  },
  {
   "cell_type": "markdown",
   "metadata": {},
   "source": [
    "## Pete, the baker - Kyu 5\n",
    "\n",
    "A Pete le gusta hornear algunos pasteles. Tiene algunas recetas e ingredientes. Desafortunadamente, no es bueno en matemáticas. ¿Puedes ayudarlo a averiguar cuántos pasteles podría hornear considerando sus recetas?\n",
    "\n",
    "Escriba una función cakes(), que tome la receta (objeto) y los ingredientes disponibles (también un objeto) y devuelva el número máximo de pasteles que Pete puede hornear (entero). Para simplificar, no hay unidades para las cantidades (por ejemplo, 1 libra de harina o 200 g de azúcar son simplemente 1 o 200). Los ingredientes que no están presentes en los objetos, se pueden considerar como 0.\n",
    "\n",
    ">Examples\n",
    ">\n",
    ">    + must return 2\n",
    ">\n",
    ">    cakes({flour: 500, sugar: 200, eggs: 1}, {flour: 1200, sugar: 1200, eggs: 5, milk: 200})\n",
    ">\n",
    ">    + must return 0\n",
    ">\n",
    ">    cakes({apples: 3, flour: 300, sugar: 150, milk: 100, oil: 100}, {sugar: 500, flour: 2000, milk: 2000})\n",
    ">"
   ]
  },
  {
   "cell_type": "code",
   "execution_count": null,
   "metadata": {},
   "outputs": [],
   "source": [
    "def cakes(recipe, available):\n",
    "    return min([available[i] // recipe[i] if i in available else 0 for i in recipe])"
   ]
  },
  {
   "cell_type": "code",
   "execution_count": 123,
   "metadata": {},
   "outputs": [
    {
     "name": "stdout",
     "output_type": "stream",
     "text": [
      "2\n"
     ]
    }
   ],
   "source": [
    "rec = {\"flour\": 500, \"sugar\": 200, \"eggs\": 1}\n",
    "ava = {\"flour\": 1200, \"sugar\": 1200, \"eggs\": 5, \"milk\": 200}\n",
    "\n",
    "def cakes(recipe, available):\n",
    "\n",
    "    lista= []\n",
    "    for i in recipe:\n",
    "        if i in available:\n",
    "            lista.append(available[i] // recipe[i])\n",
    "        else: 0\n",
    "    return min(lista)"
   ]
  },
  {
   "cell_type": "markdown",
   "metadata": {},
   "source": [
    "## Human Readable Time\n",
    "\n",
    "Escriba una función que tome un número entero no negativo (segundos) como entrada y devuelva la hora en un formato legible por humanos (HH:MM:SS)\n",
    "\n",
    "HH = horas, rellenado con 2 dígitos, rango: 00 - 99\n",
    "MM = minutos, relleno de 2 dígitos, rango: 00 - 59\n",
    "SS = segundos, rellenado con 2 dígitos, rango: 00 - 59\n",
    "\n",
    "El tiempo máximo nunca supera los 359999 (99:59:59)"
   ]
  },
  {
   "cell_type": "code",
   "execution_count": 129,
   "metadata": {},
   "outputs": [],
   "source": [
    "def make_readable(seconds):\n",
    "    h = range(0,100)\n",
    "    m = range(0,60)\n",
    "    s = range(0,60)\n",
    "    time = f\"{h}:{m}:{s}\"\n",
    "\n",
    "    seconds in range(0,60)\n"
   ]
  },
  {
   "cell_type": "code",
   "execution_count": 130,
   "metadata": {},
   "outputs": [
    {
     "ename": "TypeError",
     "evalue": "object of type 'bool' has no len()",
     "output_type": "error",
     "traceback": [
      "\u001b[1;31m---------------------------------------------------------------------------\u001b[0m",
      "\u001b[1;31mTypeError\u001b[0m                                 Traceback (most recent call last)",
      "\u001b[1;32m~\\AppData\\Local\\Temp\\ipykernel_26900\\3068305698.py\u001b[0m in \u001b[0;36m<module>\u001b[1;34m\u001b[0m\n\u001b[1;32m----> 1\u001b[1;33m \u001b[0mmake_readable\u001b[0m\u001b[1;33m(\u001b[0m\u001b[1;36m300\u001b[0m\u001b[1;33m)\u001b[0m\u001b[1;33m\u001b[0m\u001b[1;33m\u001b[0m\u001b[0m\n\u001b[0m",
      "\u001b[1;32m~\\AppData\\Local\\Temp\\ipykernel_26900\\2936528878.py\u001b[0m in \u001b[0;36mmake_readable\u001b[1;34m(seconds)\u001b[0m\n\u001b[0;32m      5\u001b[0m     \u001b[0mtime\u001b[0m \u001b[1;33m=\u001b[0m \u001b[1;34mf\"{h}:{m}:{s}\"\u001b[0m\u001b[1;33m\u001b[0m\u001b[1;33m\u001b[0m\u001b[0m\n\u001b[0;32m      6\u001b[0m \u001b[1;33m\u001b[0m\u001b[0m\n\u001b[1;32m----> 7\u001b[1;33m     \u001b[0mprint\u001b[0m\u001b[1;33m(\u001b[0m\u001b[0mlen\u001b[0m\u001b[1;33m(\u001b[0m\u001b[0mseconds\u001b[0m \u001b[1;32min\u001b[0m \u001b[0mrange\u001b[0m\u001b[1;33m(\u001b[0m\u001b[1;36m0\u001b[0m\u001b[1;33m,\u001b[0m\u001b[1;36m60\u001b[0m\u001b[1;33m)\u001b[0m\u001b[1;33m)\u001b[0m\u001b[1;33m)\u001b[0m\u001b[1;33m\u001b[0m\u001b[1;33m\u001b[0m\u001b[0m\n\u001b[0m",
      "\u001b[1;31mTypeError\u001b[0m: object of type 'bool' has no len()"
     ]
    }
   ],
   "source": [
    "make_readable(300)"
   ]
  },
  {
   "cell_type": "code",
   "execution_count": null,
   "metadata": {},
   "outputs": [],
   "source": [
    "def make_readable(seconds):\n",
    "    h = seconds // 3600\n",
    "    m = (seconds - h * 3600) // 60\n",
    "    s = seconds - (h * 3600) - (m * 60)\n",
    "    return f\"{h:0>2d}:{m:0>2d}:{s:0>2d}\""
   ]
  },
  {
   "cell_type": "code",
   "execution_count": 132,
   "metadata": {},
   "outputs": [
    {
     "name": "stdout",
     "output_type": "stream",
     "text": [
      "03\n"
     ]
    }
   ],
   "source": [
    "num = 3\n",
    "print(f\"{num:0>2d}\")"
   ]
  },
  {
   "cell_type": "markdown",
   "metadata": {},
   "source": [
    "## Covert string to camel case - Kyu 6\n",
    "\n",
    "Complete el método/función para que convierta las palabras delimitadas por guiones/guiones bajos en mayúsculas y minúsculas. La primera palabra dentro de la salida debe estar en mayúsculas solo si la palabra original estaba en mayúsculas (conocido como Upper Camel Case, también conocido como caso Pascal). Las siguientes palabras deben estar siempre en mayúscula.\n",
    "\n",
    "Ejemplos\n",
    "\n",
    "\"the-stealth-warrior\" se convierte en \"the Stealth Warrior\"\n",
    "\n",
    "\"The_Stealth_Warrior\" se convierte en \"The_Stealth_Warrior\""
   ]
  },
  {
   "cell_type": "code",
   "execution_count": null,
   "metadata": {},
   "outputs": [],
   "source": [
    "def to_camel_case(text):\n",
    "    text = text.replace(\"-\", \" \").replace(\"_\", \" \")\n",
    "    words = text.split()\n",
    "    return \"\".join([w.capitalize() if w != words[0] else w for w in words])"
   ]
  },
  {
   "cell_type": "markdown",
   "metadata": {},
   "source": [
    "## Count the smiley faces! - Kyu 6\n",
    "\n",
    "Dada una matriz (arr) como argumento, complete la función countSmileys que debería devolver el número total de caras sonrientes.\n",
    "\n",
    "Reglas para una cara sonriente:\n",
    "\n",
    "Cada cara sonriente debe contener un par de ojos válidos. Los ojos se pueden marcar como : o ;\n",
    "Una cara sonriente puede tener nariz, pero no necesariamente. Los caracteres válidos para una nariz son - o ~\n",
    "Cada rostro sonriente debe tener una boca sonriente que debe marcarse con ) o D.\n",
    "\n",
    "No se permiten caracteres adicionales a excepción de los mencionados.\n",
    "\n",
    "Ejemplos válidos de caritas sonrientes:\n",
    "\n",
    ":) :D ;-D :~)\n",
    "\n",
    "Caras sonrientes no válidas:\n",
    "\n",
    ";( :> :} :]\n",
    "\n",
    "Example\n",
    "\n",
    "    countSmileys([':)', ';(', ';}', ':-D']);       // should return 2;\n",
    "    countSmileys([';D', ':-(', ':-)', ';~)']);     // should return 3;\n",
    "    countSmileys([';]', ':[', ';*', ':$', ';-D']); // should return 1;\n",
    "\n",
    "Nota: En caso de una matriz vacía, devuelva 0. No se le probará con una entrada no válida (la entrada siempre será una matriz). El orden de los elementos de la cara (ojos, nariz, boca) siempre será el mismo"
   ]
  },
  {
   "cell_type": "code",
   "execution_count": null,
   "metadata": {},
   "outputs": [],
   "source": [
    "def count_smileys(arr):\n",
    "    smileys = []\n",
    "    for s in arr:\n",
    "        if len(s) == 2 and s[0] in [\":\", \";\"] and s[-1] in [\")\", \"D\"]:\n",
    "            smileys.append(s)\n",
    "        elif len(s) > 2 and s[0] in [\":\", \";\"] and s[1] in [\"-\", \"~\"] and s[-1] in [\")\", \"D\"]:\n",
    "            smileys.append(s)\n",
    "    return len(smileys)"
   ]
  },
  {
   "cell_type": "markdown",
   "metadata": {},
   "source": [
    "## The Hashtag Generator - Kyu 6\n",
    "\n",
    "The marketing team is spending way too much time typing in hashtags.\n",
    "Let's help them with our own Hashtag Generator!\n",
    "\n",
    "Here's the deal:\n",
    "\n",
    "    It must start with a hashtag (#).\n",
    "    All words must have their first letter capitalized.\n",
    "    If the final result is longer than 140 chars it must return false.\n",
    "    If the input or the result is an empty string it must return false.\n",
    "\n",
    "Examples\n",
    "\n",
    "    \" Hello there thanks for trying my Kata\"  =>  \"#HelloThereThanksForTryingMyKata\"\n",
    "    \"    Hello     World   \"                  =>  \"#HelloWorld\"\n",
    "    \"\"                                        =>  false\n",
    "\n"
   ]
  },
  {
   "cell_type": "code",
   "execution_count": null,
   "metadata": {},
   "outputs": [],
   "source": [
    "def generate_hashtag(s):\n",
    "    return \"#\" + \"\".join([w.strip().title() for w in s.split()]) if 140 > len(s) > 1 else False"
   ]
  },
  {
   "cell_type": "markdown",
   "metadata": {},
   "source": [
    "## Scramblies\n",
    "\n",
    "Complete la función scramble(str1, str2) que devuelve verdadero si una parte de los caracteres de str1 se pueden reorganizar para que coincidan con str2; de lo contrario, devuelve falso.\n",
    "\n",
    "Notas:\n",
    "\n",
    "Solo se utilizarán letras minúsculas (a-z). No se incluirán signos de puntuación ni dígitos.\n",
    "El rendimiento debe ser considerado.\n",
    "\n",
    "Examples\n",
    "\n",
    "    scramble('rkqodlw', 'world') ==> True\n",
    "    scramble('cedewaraaossoqqyt', 'codewars') ==> True\n",
    "    scramble('katas', 'steak') ==> False\n"
   ]
  },
  {
   "cell_type": "code",
   "execution_count": null,
   "metadata": {},
   "outputs": [],
   "source": [
    "def scramble(s1, s2):\n",
    "\n",
    "    for c in set(s2):\n",
    "            if s1.count(c) < s2.count(c):\n",
    "                return False\n",
    "    return True"
   ]
  },
  {
   "cell_type": "markdown",
   "metadata": {},
   "source": [
    "## Greed is good - Kyu 5\n",
    "\n",
    "Greed es un juego de dados que se juega con cinco dados de seis caras. Tu misión, si decides aceptarla, es anotar un lanzamiento de acuerdo con estas reglas. Siempre se le dará una matriz con cinco valores de dados de seis lados.\n",
    "\n",
    "    Three 1's => 1000 points\n",
    "    Three 6's =>  600 points\n",
    "    Three 5's =>  500 points\n",
    "    Three 4's =>  400 points\n",
    "    Three 3's =>  300 points\n",
    "    Three 2's =>  200 points\n",
    "    One   1   =>  100 points\n",
    "    One   5   =>   50 point\n",
    "\n",
    "Un solo dado solo se puede contar una vez en cada tirada. Por ejemplo, un \"5\" solo puede contar como parte de un triplete (contribuyendo a los 500 puntos) o como un solo 50 puntos, pero no ambos en la misma tirada.\n",
    "\n",
    "Ejemplo de puntuación\n",
    "\n",
    "    Throw       Score\n",
    "    ---------   ------------------\n",
    "    5 1 3 4 1   50 + 2 * 100 = 250\n",
    "    1 1 1 3 1   1000 + 100 = 1100\n",
    "    2 4 4 5 4   400 + 50 = 450\n",
    "\n",
    "En algunos idiomas, es posible mutar la entrada a la función. Esto es algo que nunca debes hacer. Si muta la entrada, no podrá pasar todas las pruebas."
   ]
  },
  {
   "cell_type": "code",
   "execution_count": null,
   "metadata": {},
   "outputs": [],
   "source": [
    "def score(dice):\n",
    "    from collections import Counter\n",
    "    points = {1:1000, 6:600, 5:500, 4:400, 3:300, 2:200}\n",
    "    dices = Counter(dice)\n",
    "\n",
    "    tot = 0\n",
    "\n",
    "    for k,v in dices.items():\n",
    "        if v >= 3:\n",
    "            tot += points[k] * (v // 3)\n",
    "        if k == 1:\n",
    "            tot += 100 * (v % 3)\n",
    "        elif k == 5:\n",
    "            tot += 50 * (v % 3)\n",
    "\n",
    "    return tot"
   ]
  }
 ],
 "metadata": {
  "kernelspec": {
   "display_name": "Python 3.7.4 64-bit",
   "language": "python",
   "name": "python3"
  },
  "language_info": {
   "codemirror_mode": {
    "name": "ipython",
    "version": 3
   },
   "file_extension": ".py",
   "mimetype": "text/x-python",
   "name": "python",
   "nbconvert_exporter": "python",
   "pygments_lexer": "ipython3",
   "version": "3.7.4"
  },
  "orig_nbformat": 4,
  "vscode": {
   "interpreter": {
    "hash": "207c308bf4f500f1746affa728cb3678c6c9733dbbb4e5042cb4d1135561ef1c"
   }
  }
 },
 "nbformat": 4,
 "nbformat_minor": 2
}
